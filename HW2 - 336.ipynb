{
 "cells": [
  {
   "cell_type": "raw",
   "id": "4c999dc3",
   "metadata": {},
   "source": [
    "Chapter 3: Linear models (2 problems)\n",
    "\n",
    "#3.3, 3.4\n",
    "\n",
    " \n",
    "\n",
    "Chapter 4: Principles of Mathematical Modeling (4 problems)\n",
    "\n",
    "#1-5:  Exercise 4.1, 4.6, 4.7, 4.8\n",
    "\n",
    " \n",
    "\n",
    "Chapter 5: Math Modeling by Linear Algebra (4 problems)\n",
    "\n",
    "#6-10: Exercise 5.1, 5.2, 5.4, 5.8"
   ]
  },
  {
   "cell_type": "code",
   "execution_count": 1,
   "id": "9bc1c6ac",
   "metadata": {},
   "outputs": [],
   "source": [
    "import numpy as np\n",
    "import matplotlib.pyplot as plt\n",
    "import pandas as pd\n",
    "import os\n",
    "\n",
    "os.chdir(r\"C:\\Users\\Tyler\\Desktop\\School\\MATH336\\HW\\HW2\")"
   ]
  },
  {
   "cell_type": "markdown",
   "id": "13c16ee5",
   "metadata": {},
   "source": [
    "# 3.3"
   ]
  },
  {
   "cell_type": "code",
   "execution_count": 2,
   "id": "c5307577",
   "metadata": {},
   "outputs": [
    {
     "data": {
      "text/html": [
       "<div>\n",
       "<style scoped>\n",
       "    .dataframe tbody tr th:only-of-type {\n",
       "        vertical-align: middle;\n",
       "    }\n",
       "\n",
       "    .dataframe tbody tr th {\n",
       "        vertical-align: top;\n",
       "    }\n",
       "\n",
       "    .dataframe thead th {\n",
       "        text-align: right;\n",
       "    }\n",
       "</style>\n",
       "<table border=\"1\" class=\"dataframe\">\n",
       "  <thead>\n",
       "    <tr style=\"text-align: right;\">\n",
       "      <th></th>\n",
       "      <th>0</th>\n",
       "      <th>1</th>\n",
       "      <th>2</th>\n",
       "    </tr>\n",
       "  </thead>\n",
       "  <tbody>\n",
       "    <tr>\n",
       "      <th>0</th>\n",
       "      <td>1880</td>\n",
       "      <td>-0.41</td>\n",
       "      <td>-99.99</td>\n",
       "    </tr>\n",
       "    <tr>\n",
       "      <th>1</th>\n",
       "      <td>1881</td>\n",
       "      <td>-0.39</td>\n",
       "      <td>-99.99</td>\n",
       "    </tr>\n",
       "    <tr>\n",
       "      <th>2</th>\n",
       "      <td>1882</td>\n",
       "      <td>-0.30</td>\n",
       "      <td>-0.40</td>\n",
       "    </tr>\n",
       "    <tr>\n",
       "      <th>3</th>\n",
       "      <td>1883</td>\n",
       "      <td>-0.32</td>\n",
       "      <td>-0.41</td>\n",
       "    </tr>\n",
       "    <tr>\n",
       "      <th>4</th>\n",
       "      <td>1884</td>\n",
       "      <td>-0.60</td>\n",
       "      <td>-0.46</td>\n",
       "    </tr>\n",
       "    <tr>\n",
       "      <th>...</th>\n",
       "      <td>...</td>\n",
       "      <td>...</td>\n",
       "      <td>...</td>\n",
       "    </tr>\n",
       "    <tr>\n",
       "      <th>131</th>\n",
       "      <td>2011</td>\n",
       "      <td>0.79</td>\n",
       "      <td>0.82</td>\n",
       "    </tr>\n",
       "    <tr>\n",
       "      <th>132</th>\n",
       "      <td>2012</td>\n",
       "      <td>0.78</td>\n",
       "      <td>0.84</td>\n",
       "    </tr>\n",
       "    <tr>\n",
       "      <th>133</th>\n",
       "      <td>2013</td>\n",
       "      <td>0.82</td>\n",
       "      <td>0.85</td>\n",
       "    </tr>\n",
       "    <tr>\n",
       "      <th>134</th>\n",
       "      <td>2014</td>\n",
       "      <td>0.88</td>\n",
       "      <td>-99.99</td>\n",
       "    </tr>\n",
       "    <tr>\n",
       "      <th>135</th>\n",
       "      <td>2015</td>\n",
       "      <td>0.99</td>\n",
       "      <td>-99.99</td>\n",
       "    </tr>\n",
       "  </tbody>\n",
       "</table>\n",
       "<p>136 rows × 3 columns</p>\n",
       "</div>"
      ],
      "text/plain": [
       "        0     1      2\n",
       "0    1880 -0.41 -99.99\n",
       "1    1881 -0.39 -99.99\n",
       "2    1882 -0.30  -0.40\n",
       "3    1883 -0.32  -0.41\n",
       "4    1884 -0.60  -0.46\n",
       "..    ...   ...    ...\n",
       "131  2011  0.79   0.82\n",
       "132  2012  0.78   0.84\n",
       "133  2013  0.82   0.85\n",
       "134  2014  0.88 -99.99\n",
       "135  2015  0.99 -99.99\n",
       "\n",
       "[136 rows x 3 columns]"
      ]
     },
     "execution_count": 2,
     "metadata": {},
     "output_type": "execute_result"
    }
   ],
   "source": [
    "dtmean = pd.read_csv(\"gl_land_nohead.txt\", sep='\\s+',header = None, index_col = None)\n",
    "dtmean"
   ]
  },
  {
   "cell_type": "code",
   "execution_count": 3,
   "id": "f2197988",
   "metadata": {},
   "outputs": [
    {
     "data": {
      "text/plain": [
       "(136, 3)"
      ]
     },
     "execution_count": 3,
     "metadata": {},
     "output_type": "execute_result"
    }
   ],
   "source": [
    "dtmean.shape"
   ]
  },
  {
   "cell_type": "code",
   "execution_count": 4,
   "id": "15f2c881",
   "metadata": {},
   "outputs": [],
   "source": [
    "yrtime = dtmean.iloc[0:136,0]\n",
    "tmean = dtmean.iloc[0:136,1]\n",
    "\n",
    "def Summary(x):\n",
    "    \"\"\"\n",
    "    This function accepts a 1-D numpy array as an argument, and uses a\n",
    "    DataFrame to return a string that displays a summary of the data:\n",
    "    the quantiles and the mean.\n",
    "    \"\"\"\n",
    "    deets = np.quantile(x, [0, .25, .5, .75, 1])\n",
    "    deets = np.array([np.append(deets, np.mean(x))])\n",
    "    df = pd.DataFrame(data=deets,\n",
    "                      columns=['Min.', '1st Qu.', 'Median',\n",
    "                               '3rd Qu.', 'Max.', 'Mean'],\n",
    "                      index=['values'])\n",
    "    print(df.to_string())"
   ]
  },
  {
   "cell_type": "code",
   "execution_count": 5,
   "id": "d2f15c9a",
   "metadata": {},
   "outputs": [
    {
     "name": "stdout",
     "output_type": "stream",
     "text": [
      "        Min.  1st Qu.  Median  3rd Qu.  Max.      Mean\n",
      "values -0.64  -0.2825   -0.08     0.22  0.99  0.012426\n"
     ]
    }
   ],
   "source": [
    "Summary(tmean)"
   ]
  },
  {
   "cell_type": "code",
   "execution_count": 6,
   "id": "c88580ca",
   "metadata": {},
   "outputs": [
    {
     "name": "stdout",
     "output_type": "stream",
     "text": [
      "          Min.  1st Qu.  Median  3rd Qu.    Max.    Mean\n",
      "values  1880.0  1913.75  1947.5  1981.25  2015.0  1947.5\n"
     ]
    }
   ],
   "source": [
    "Summary(yrtime)"
   ]
  },
  {
   "cell_type": "code",
   "execution_count": 7,
   "id": "d8883bcb",
   "metadata": {},
   "outputs": [
    {
     "data": {
      "text/plain": [
       "Text(0.5, 1.0, 'Land Temp. Anomalies')"
      ]
     },
     "execution_count": 7,
     "metadata": {},
     "output_type": "execute_result"
    },
    {
     "data": {
      "image/png": "[encoded data removed]",
      "text/plain": [
       "<Figure size 432x288 with 1 Axes>"
      ]
     },
     "metadata": {
      "needs_background": "light"
     },
     "output_type": "display_data"
    }
   ],
   "source": [
    "plt.boxplot(tmean)\n",
    "plt.title(\"Land Temp. Anomalies\")"
   ]
  },
  {
   "cell_type": "code",
   "execution_count": 8,
   "id": "655d40fc",
   "metadata": {},
   "outputs": [
    {
     "data": {
      "text/plain": [
       "Text(0, 0.5, 'Frequency')"
      ]
     },
     "execution_count": 8,
     "metadata": {},
     "output_type": "execute_result"
    },
    {
     "data": {
      "image/png": "[encoded data removed]",
      "text/plain": [
       "<Figure size 432x288 with 1 Axes>"
      ]
     },
     "metadata": {
      "needs_background": "light"
     },
     "output_type": "display_data"
    }
   ],
   "source": [
    "plt.hist(tmean, bins=10, facecolor='w', edgecolor='k', rwidth=1, align = 'mid')\n",
    "plt.title(\"Histogram: Land Temperature Anomalies\",fontweight=\"bold\")\n",
    "plt.xlabel(\"Temp. Anomalies\",size=15)\n",
    "plt.ylabel(\"Frequency\",size=15)"
   ]
  },
  {
   "cell_type": "code",
   "execution_count": 9,
   "id": "7be6907d",
   "metadata": {},
   "outputs": [
    {
     "data": {
      "text/plain": [
       "0     -0.41\n",
       "1     -0.39\n",
       "2     -0.30\n",
       "3     -0.32\n",
       "4     -0.60\n",
       "       ... \n",
       "131    0.79\n",
       "132    0.78\n",
       "133    0.82\n",
       "134    0.88\n",
       "135    0.99\n",
       "Name: 1, Length: 136, dtype: float64"
      ]
     },
     "execution_count": 9,
     "metadata": {},
     "output_type": "execute_result"
    }
   ],
   "source": [
    "tmean"
   ]
  },
  {
   "cell_type": "code",
   "execution_count": 10,
   "id": "4478a446",
   "metadata": {},
   "outputs": [
    {
     "data": {
      "text/plain": [
       "0      1880\n",
       "1      1881\n",
       "2      1882\n",
       "3      1883\n",
       "4      1884\n",
       "       ... \n",
       "131    2011\n",
       "132    2012\n",
       "133    2013\n",
       "134    2014\n",
       "135    2015\n",
       "Name: 0, Length: 136, dtype: int64"
      ]
     },
     "execution_count": 10,
     "metadata": {},
     "output_type": "execute_result"
    }
   ],
   "source": [
    "yrtime"
   ]
  },
  {
   "cell_type": "code",
   "execution_count": 11,
   "id": "86e12d64",
   "metadata": {},
   "outputs": [],
   "source": [
    "def linear_model(x):\n",
    "    \"\"\"\n",
    "    This function accepts a numpy array of length 2, and returns a linear\n",
    "    lambda function using the elements of the array as the coefficients,\n",
    "    like so: f(t) = x[0]*t + x[1]\n",
    "    \"\"\"\n",
    "    return lambda t: x[0]*t + x[1]"
   ]
  },
  {
   "cell_type": "code",
   "execution_count": 12,
   "id": "e3ccc2cd",
   "metadata": {},
   "outputs": [
    {
     "data": {
      "image/png": "[encoded data removed]",
      "text/plain": [
       "<Figure size 432x288 with 1 Axes>"
      ]
     },
     "metadata": {
      "needs_background": "light"
     },
     "output_type": "display_data"
    }
   ],
   "source": [
    "tempTrend = np.polyfit(yrtime,tmean.astype(float),1)\n",
    "tempLine = linear_model(tempTrend)\n",
    "\n",
    "plt.plot(yrtime, tmean, 'o-', label='Land temperature')\n",
    "plt.plot(yrtime,tempLine(yrtime), 'r',\n",
    "         label=f\"Trend = {tempTrend[0]:.3f} deg C per year\")\n",
    "\n",
    "plt.xlabel('Year')\n",
    "plt.ylabel('Land temperature [deg C]')\n",
    "plt.title('Global Annual Mean Land Surface Air Temperature')\n",
    "plt.legend()\n",
    "plt.show()"
   ]
  },
  {
   "cell_type": "code",
   "execution_count": 13,
   "id": "230f558a",
   "metadata": {},
   "outputs": [
    {
     "name": "stdout",
     "output_type": "stream",
     "text": [
      "[ 9.22296169e-03 -1.79492914e+01]\n"
     ]
    }
   ],
   "source": [
    "print(tempTrend)"
   ]
  },
  {
   "cell_type": "code",
   "execution_count": 14,
   "id": "e463cec7",
   "metadata": {},
   "outputs": [
    {
     "name": "stdout",
     "output_type": "stream",
     "text": [
      "                            OLS Regression Results                            \n",
      "==============================================================================\n",
      "Dep. Variable:                      1   R-squared:                       0.821\n",
      "Model:                            OLS   Adj. R-squared:                  0.819\n",
      "Method:                 Least Squares   F-statistic:                     613.4\n",
      "Date:                Wed, 05 Apr 2023   Prob (F-statistic):           7.37e-52\n",
      "Time:                        13:09:26   Log-Likelihood:                 48.625\n",
      "No. Observations:                 136   AIC:                            -93.25\n",
      "Df Residuals:                     134   BIC:                            -87.42\n",
      "Df Model:                           1                                         \n",
      "Covariance Type:            nonrobust                                         \n",
      "==============================================================================\n",
      "                 coef    std err          t      P>|t|      [0.025      0.975]\n",
      "------------------------------------------------------------------------------\n",
      "const        -17.9493      0.725    -24.745      0.000     -19.384     -16.515\n",
      "0              0.0092      0.000     24.767      0.000       0.008       0.010\n",
      "==============================================================================\n",
      "Omnibus:                        0.499   Durbin-Watson:                   0.700\n",
      "Prob(Omnibus):                  0.779   Jarque-Bera (JB):                0.636\n",
      "Skew:                          -0.040   Prob(JB):                        0.728\n",
      "Kurtosis:                       2.675   Cond. No.                     9.66e+04\n",
      "==============================================================================\n",
      "\n",
      "Notes:\n",
      "[1] Standard Errors assume that the covariance matrix of the errors is correctly specified.\n",
      "[2] The condition number is large, 9.66e+04. This might indicate that there are\n",
      "strong multicollinearity or other numerical problems.\n"
     ]
    }
   ],
   "source": [
    "import statsmodels.api as sm\n",
    "\n",
    "# Assuming tmean and yrtime are both numpy arrays or pandas series\n",
    "reg8014 = sm.OLS(tmean, sm.add_constant(yrtime)).fit()\n",
    "\n",
    "# Print the model summary\n",
    "print(reg8014.summary())"
   ]
  },
  {
   "cell_type": "code",
   "execution_count": 15,
   "id": "6902cd18",
   "metadata": {},
   "outputs": [
    {
     "name": "stdout",
     "output_type": "stream",
     "text": [
      "0      0.200123\n",
      "1      0.210900\n",
      "2      0.291678\n",
      "3      0.262455\n",
      "4     -0.026768\n",
      "         ...   \n",
      "131    0.191915\n",
      "132    0.172693\n",
      "133    0.203470\n",
      "134    0.254247\n",
      "135    0.355024\n",
      "Length: 136, dtype: float64\n",
      "\n",
      "Minimum residual: -0.4452808787748659 \n",
      "Maximum residual: 0.361813964028435\n"
     ]
    }
   ],
   "source": [
    "#Get residuals of \n",
    "residuals = reg8014.resid\n",
    "print(residuals)\n",
    "print(f\"\\nMinimum residual: {np.min(residuals)} \\nMaximum residual: {np.max(residuals)}\")"
   ]
  },
  {
   "cell_type": "markdown",
   "id": "fedf6a44",
   "metadata": {},
   "source": [
    "Residual standard error formula:\n",
    "\n",
    "\\begin{align*}\n",
    "\\hat{\\sigma} = SD_{\\epsilon} \\sqrt{\\frac{n-1}{n-K}}\n",
    "\\end{align*}"
   ]
  },
  {
   "cell_type": "code",
   "execution_count": 16,
   "id": "bc4be64b",
   "metadata": {},
   "outputs": [
    {
     "name": "stdout",
     "output_type": "stream",
     "text": [
      "The residual standard error is : 0.17049655495021854.\n"
     ]
    }
   ],
   "source": [
    "se_residuals = np.std(residuals, ddof=1) * np.sqrt((135 - 1) / (135 - 2))\n",
    "print(f\"The residual standard error is : {se_residuals}.\")"
   ]
  },
  {
   "cell_type": "markdown",
   "id": "a79dd8f4",
   "metadata": {},
   "source": [
    "Calculate R-squared:"
   ]
  },
  {
   "cell_type": "code",
   "execution_count": 17,
   "id": "0dbd4020",
   "metadata": {},
   "outputs": [
    {
     "data": {
      "text/plain": [
       "0.8207124808669548"
      ]
     },
     "execution_count": 17,
     "metadata": {},
     "output_type": "execute_result"
    }
   ],
   "source": [
    "from scipy.stats import pearsonr\n",
    "\n",
    "# assuming tmean and yrtime are numpy arrays or lists\n",
    "corr, _ = pearsonr(tmean, yrtime)\n",
    "corr_squared = np.square(corr)\n",
    "corr_squared"
   ]
  },
  {
   "cell_type": "markdown",
   "id": "6fa427d6",
   "metadata": {},
   "source": [
    "# 3.4 Hansen's data analysis."
   ]
  },
  {
   "cell_type": "code",
   "execution_count": 18,
   "id": "76bbd9f3",
   "metadata": {},
   "outputs": [
    {
     "data": {
      "text/html": [
       "<div>\n",
       "<style scoped>\n",
       "    .dataframe tbody tr th:only-of-type {\n",
       "        vertical-align: middle;\n",
       "    }\n",
       "\n",
       "    .dataframe tbody tr th {\n",
       "        vertical-align: top;\n",
       "    }\n",
       "\n",
       "    .dataframe thead th {\n",
       "        text-align: right;\n",
       "    }\n",
       "</style>\n",
       "<table border=\"1\" class=\"dataframe\">\n",
       "  <thead>\n",
       "    <tr style=\"text-align: right;\">\n",
       "      <th></th>\n",
       "      <th>Anomaly</th>\n",
       "      <th>mean</th>\n",
       "    </tr>\n",
       "    <tr>\n",
       "      <th>Year</th>\n",
       "      <th></th>\n",
       "      <th></th>\n",
       "    </tr>\n",
       "  </thead>\n",
       "  <tbody>\n",
       "    <tr>\n",
       "      <th>1880</th>\n",
       "      <td>-0.20</td>\n",
       "      <td>-99.99</td>\n",
       "    </tr>\n",
       "    <tr>\n",
       "      <th>1881</th>\n",
       "      <td>-0.11</td>\n",
       "      <td>-99.99</td>\n",
       "    </tr>\n",
       "    <tr>\n",
       "      <th>1882</th>\n",
       "      <td>-0.09</td>\n",
       "      <td>-0.17</td>\n",
       "    </tr>\n",
       "    <tr>\n",
       "      <th>1883</th>\n",
       "      <td>-0.20</td>\n",
       "      <td>-0.20</td>\n",
       "    </tr>\n",
       "    <tr>\n",
       "      <th>1884</th>\n",
       "      <td>-0.27</td>\n",
       "      <td>-0.23</td>\n",
       "    </tr>\n",
       "    <tr>\n",
       "      <th>...</th>\n",
       "      <td>...</td>\n",
       "      <td>...</td>\n",
       "    </tr>\n",
       "    <tr>\n",
       "      <th>2010</th>\n",
       "      <td>0.71</td>\n",
       "      <td>0.62</td>\n",
       "    </tr>\n",
       "    <tr>\n",
       "      <th>2011</th>\n",
       "      <td>0.59</td>\n",
       "      <td>0.64</td>\n",
       "    </tr>\n",
       "    <tr>\n",
       "      <th>2012</th>\n",
       "      <td>0.62</td>\n",
       "      <td>0.66</td>\n",
       "    </tr>\n",
       "    <tr>\n",
       "      <th>2013</th>\n",
       "      <td>0.65</td>\n",
       "      <td>0.69</td>\n",
       "    </tr>\n",
       "    <tr>\n",
       "      <th>2014</th>\n",
       "      <td>0.74</td>\n",
       "      <td>-99.99</td>\n",
       "    </tr>\n",
       "  </tbody>\n",
       "</table>\n",
       "<p>135 rows × 2 columns</p>\n",
       "</div>"
      ],
      "text/plain": [
       "      Anomaly   mean\n",
       "Year                \n",
       "1880    -0.20 -99.99\n",
       "1881    -0.11 -99.99\n",
       "1882    -0.09  -0.17\n",
       "1883    -0.20  -0.20\n",
       "1884    -0.27  -0.23\n",
       "...       ...    ...\n",
       "2010     0.71   0.62\n",
       "2011     0.59   0.64\n",
       "2012     0.62   0.66\n",
       "2013     0.65   0.69\n",
       "2014     0.74 -99.99\n",
       "\n",
       "[135 rows x 2 columns]"
      ]
     },
     "execution_count": 18,
     "metadata": {},
     "output_type": "execute_result"
    }
   ],
   "source": [
    "dtmean = pd.read_csv(\"gl_land_oceanHan-r1.txt\", sep='\\s+',header = 0, index_col = 0)\n",
    "dtmean"
   ]
  },
  {
   "cell_type": "code",
   "execution_count": 19,
   "id": "573bfe68",
   "metadata": {},
   "outputs": [
    {
     "name": "stdout",
     "output_type": "stream",
     "text": [
      "        Min.  1st Qu.  Median  3rd Qu.  Max.      Mean\n",
      "values -0.47    -0.21   -0.08    0.175  0.74  0.011852\n"
     ]
    }
   ],
   "source": [
    "#a) Statistical Summary\n",
    "dtmeanAnom = dtmean.loc[:,'Anomaly']\n",
    "dtmeanAnom\n",
    "\n",
    "Summary(dtmeanAnom)"
   ]
  },
  {
   "cell_type": "code",
   "execution_count": 20,
   "id": "2baff26c",
   "metadata": {},
   "outputs": [
    {
     "data": {
      "text/plain": [
       "Text(0.5, 1.0, 'Boxplot of Hansen’s global temp data 1880-2014\\u200b')"
      ]
     },
     "execution_count": 20,
     "metadata": {},
     "output_type": "execute_result"
    },
    {
     "data": {
      "image/png": "[encoded data removed]",
      "text/plain": [
       "<Figure size 432x288 with 1 Axes>"
      ]
     },
     "metadata": {
      "needs_background": "light"
     },
     "output_type": "display_data"
    }
   ],
   "source": [
    "#b) Box plot\n",
    "plt.boxplot(dtmeanAnom)\n",
    "plt.title(\"Boxplot of Hansen’s global temp data 1880-2014​\")"
   ]
  },
  {
   "cell_type": "code",
   "execution_count": 21,
   "id": "f79941d1",
   "metadata": {},
   "outputs": [
    {
     "data": {
      "text/plain": [
       "Text(0, 0.5, 'Frequency')"
      ]
     },
     "execution_count": 21,
     "metadata": {},
     "output_type": "execute_result"
    },
    {
     "data": {
      "image/png": "[encoded data removed]",
      "text/plain": [
       "<Figure size 432x288 with 1 Axes>"
      ]
     },
     "metadata": {
      "needs_background": "light"
     },
     "output_type": "display_data"
    }
   ],
   "source": [
    "#c) Histogram\n",
    "plt.hist(dtmeanAnom, bins=10, facecolor='w', edgecolor='k', rwidth=1, align = 'mid')\n",
    "plt.title(\"Histogram of Hansen’s global temp\",fontweight=\"bold\")\n",
    "plt.xlabel(\"Temp anomaly [oC]\",size=15)\n",
    "plt.ylabel(\"Frequency\",size=15)"
   ]
  },
  {
   "cell_type": "code",
   "execution_count": 22,
   "id": "dc7722d9",
   "metadata": {
    "scrolled": false
   },
   "outputs": [
    {
     "data": {
      "image/png": "[encoded data removed]",
      "text/plain": [
       "<Figure size 576x432 with 1 Axes>"
      ]
     },
     "metadata": {
      "needs_background": "light"
     },
     "output_type": "display_data"
    }
   ],
   "source": [
    "#d) Linear regression models\n",
    "\n",
    "\n",
    "# Define x and y variables\n",
    "y18802014 = dtmean[\"Anomaly\"].values\n",
    "x18802014 = np.arange(1880, 2015)\n",
    "\n",
    "# Plot the data\n",
    "plt.figure(figsize=(8, 6))\n",
    "plt.plot(x18802014, y18802014, \"o-\", color=\"blue\")\n",
    "plt.xlabel(\"Year\")\n",
    "plt.ylabel(\"Temperature anomalies [oC]\")\n",
    "plt.title(\"Global Annual Mean Global Surface Air Temp from Hansen\")\n",
    "\n",
    "# Fit linear regression models and add trend lines to the plot\n",
    "for start, end, color in [(1880, 2014, \"red\"),(1880, 1910, \"blue\"), (1880, 1950, \"green\"), (1880, 1975, \"black\"), (1880, 2000, \"purple\")]:\n",
    "    x = np.arange(start, end + 1)\n",
    "    y = dtmean[\"Anomaly\"].values[:len(x)]\n",
    "    anomTrend = np.polyfit(x, y, 1)\n",
    "    anomLine = linear_model(anomTrend)\n",
    "    lab = f\"1880-{end} Trend: {anomTrend[0]:.4f} $\\degree$C per century\"\n",
    "    plt.plot(x,anomLine(x) , \"-\", color=color, linewidth=4, label = lab)\n",
    "\n",
    "plt.legend(loc='upper left')\n",
    "plt.show()"
   ]
  },
  {
   "cell_type": "markdown",
   "id": "af5e0444",
   "metadata": {},
   "source": [
    "# 4.7 \n",
    "\n",
    "Use the EBM and Python to estimate the lunar surface temperature at lunar latitude 30 degrees North at 3:00pm, lunar local time. Hint: The 12:00pm noon for a lunar location is when the location directly faces the Sun. From this point, the location of 3:00pm can be found."
   ]
  },
  {
   "cell_type": "code",
   "execution_count": 23,
   "id": "2c1e131b",
   "metadata": {},
   "outputs": [
    {
     "name": "stdout",
     "output_type": "stream",
     "text": [
      "Temperature at latitude 30 degrees north at 3:00pm: 339.36 K\n"
     ]
    }
   ],
   "source": [
    "from math import pi\n",
    "import numpy as np\n",
    "from scipy.optimize import root_scalar\n",
    "\n",
    "# Equator noon: beta = 0\n",
    "beta = 45 # 0 for noon, 15 for 1pm, 30 for 2pm, 45 for 3pm\n",
    "betar = beta * pi / 180\n",
    "lat = 30 * pi / 180  # 60N # 0 latitude or enter non-zero latitude\n",
    "sigma = 5.670367 * 10**(-8) # Blackbody radiation law\n",
    "alpha = 0.12 # reflection\n",
    "S = 1368 # solar constant, i.e., sun radiation w/mˆ2\n",
    "ep = 0.98 # related to radiation\n",
    "k = 7.4 * 10**(-4) # related heat conduction from surface down\n",
    "h = 0.4 # related to conduction\n",
    "T0 = 260 # temp underneath surface\n",
    "\n",
    "def fEBM(T):\n",
    "    return (1 - alpha) * S * (np.cos(betar) * np.cos(lat)) - (ep * sigma * T**4 + k * (T - T0) / h)\n",
    "\n",
    "# Numerically solve this EBM: fEBM = 0\n",
    "sol = root_scalar(fEBM, bracket=[100, 460], method='brentq')\n",
    "print(f\"Temperature at latitude 30 degrees north at 3:00pm: {sol.root:.2f} K\")\n"
   ]
  },
  {
   "cell_type": "markdown",
   "id": "c79aa095",
   "metadata": {},
   "source": [
    "# 4.8\n",
    "\n",
    "Use the EBM and Python to estimate the lunar surface temperature at 24 points uniformly distributed on the equator. List the results in a table of 3 columns. The first column is longitude, the second is temperature in Kelvin, and the third is temperature in degrees Celcius."
   ]
  },
  {
   "cell_type": "code",
   "execution_count": 24,
   "id": "0109680e",
   "metadata": {},
   "outputs": [
    {
     "data": {
      "text/html": [
       "<div>\n",
       "<style scoped>\n",
       "    .dataframe tbody tr th:only-of-type {\n",
       "        vertical-align: middle;\n",
       "    }\n",
       "\n",
       "    .dataframe tbody tr th {\n",
       "        vertical-align: top;\n",
       "    }\n",
       "\n",
       "    .dataframe thead th {\n",
       "        text-align: right;\n",
       "    }\n",
       "</style>\n",
       "<table border=\"1\" class=\"dataframe\">\n",
       "  <thead>\n",
       "    <tr style=\"text-align: right;\">\n",
       "      <th></th>\n",
       "      <th>Long.</th>\n",
       "      <th>Kelvin</th>\n",
       "      <th>Celcius</th>\n",
       "    </tr>\n",
       "  </thead>\n",
       "  <tbody>\n",
       "    <tr>\n",
       "      <th>0</th>\n",
       "      <td>-60.0</td>\n",
       "      <td>322.592669</td>\n",
       "      <td>49.592669</td>\n",
       "    </tr>\n",
       "    <tr>\n",
       "      <th>1</th>\n",
       "      <td>-55.0</td>\n",
       "      <td>333.856027</td>\n",
       "      <td>60.856027</td>\n",
       "    </tr>\n",
       "    <tr>\n",
       "      <th>2</th>\n",
       "      <td>-50.0</td>\n",
       "      <td>343.501058</td>\n",
       "      <td>70.501058</td>\n",
       "    </tr>\n",
       "    <tr>\n",
       "      <th>3</th>\n",
       "      <td>-45.0</td>\n",
       "      <td>351.789175</td>\n",
       "      <td>78.789175</td>\n",
       "    </tr>\n",
       "    <tr>\n",
       "      <th>4</th>\n",
       "      <td>-40.0</td>\n",
       "      <td>358.901133</td>\n",
       "      <td>85.901133</td>\n",
       "    </tr>\n",
       "    <tr>\n",
       "      <th>5</th>\n",
       "      <td>-35.0</td>\n",
       "      <td>364.966186</td>\n",
       "      <td>91.966186</td>\n",
       "    </tr>\n",
       "    <tr>\n",
       "      <th>6</th>\n",
       "      <td>-30.0</td>\n",
       "      <td>370.078904</td>\n",
       "      <td>97.078904</td>\n",
       "    </tr>\n",
       "    <tr>\n",
       "      <th>7</th>\n",
       "      <td>-25.0</td>\n",
       "      <td>374.309425</td>\n",
       "      <td>101.309425</td>\n",
       "    </tr>\n",
       "    <tr>\n",
       "      <th>8</th>\n",
       "      <td>-20.0</td>\n",
       "      <td>377.709956</td>\n",
       "      <td>104.709956</td>\n",
       "    </tr>\n",
       "    <tr>\n",
       "      <th>9</th>\n",
       "      <td>-15.0</td>\n",
       "      <td>380.319016</td>\n",
       "      <td>107.319016</td>\n",
       "    </tr>\n",
       "    <tr>\n",
       "      <th>10</th>\n",
       "      <td>-10.0</td>\n",
       "      <td>382.164240</td>\n",
       "      <td>109.164240</td>\n",
       "    </tr>\n",
       "    <tr>\n",
       "      <th>11</th>\n",
       "      <td>-5.0</td>\n",
       "      <td>383.264232</td>\n",
       "      <td>110.264232</td>\n",
       "    </tr>\n",
       "    <tr>\n",
       "      <th>12</th>\n",
       "      <td>0.0</td>\n",
       "      <td>383.629726</td>\n",
       "      <td>110.629726</td>\n",
       "    </tr>\n",
       "    <tr>\n",
       "      <th>13</th>\n",
       "      <td>5.0</td>\n",
       "      <td>383.264232</td>\n",
       "      <td>110.264232</td>\n",
       "    </tr>\n",
       "    <tr>\n",
       "      <th>14</th>\n",
       "      <td>10.0</td>\n",
       "      <td>382.164240</td>\n",
       "      <td>109.164240</td>\n",
       "    </tr>\n",
       "    <tr>\n",
       "      <th>15</th>\n",
       "      <td>15.0</td>\n",
       "      <td>380.319016</td>\n",
       "      <td>107.319016</td>\n",
       "    </tr>\n",
       "    <tr>\n",
       "      <th>16</th>\n",
       "      <td>20.0</td>\n",
       "      <td>377.709956</td>\n",
       "      <td>104.709956</td>\n",
       "    </tr>\n",
       "    <tr>\n",
       "      <th>17</th>\n",
       "      <td>25.0</td>\n",
       "      <td>374.309425</td>\n",
       "      <td>101.309425</td>\n",
       "    </tr>\n",
       "    <tr>\n",
       "      <th>18</th>\n",
       "      <td>30.0</td>\n",
       "      <td>370.078904</td>\n",
       "      <td>97.078904</td>\n",
       "    </tr>\n",
       "    <tr>\n",
       "      <th>19</th>\n",
       "      <td>35.0</td>\n",
       "      <td>364.966186</td>\n",
       "      <td>91.966186</td>\n",
       "    </tr>\n",
       "    <tr>\n",
       "      <th>20</th>\n",
       "      <td>40.0</td>\n",
       "      <td>358.901133</td>\n",
       "      <td>85.901133</td>\n",
       "    </tr>\n",
       "    <tr>\n",
       "      <th>21</th>\n",
       "      <td>45.0</td>\n",
       "      <td>351.789175</td>\n",
       "      <td>78.789175</td>\n",
       "    </tr>\n",
       "    <tr>\n",
       "      <th>22</th>\n",
       "      <td>50.0</td>\n",
       "      <td>343.501058</td>\n",
       "      <td>70.501058</td>\n",
       "    </tr>\n",
       "    <tr>\n",
       "      <th>23</th>\n",
       "      <td>55.0</td>\n",
       "      <td>333.856027</td>\n",
       "      <td>60.856027</td>\n",
       "    </tr>\n",
       "  </tbody>\n",
       "</table>\n",
       "</div>"
      ],
      "text/plain": [
       "    Long.      Kelvin     Celcius\n",
       "0   -60.0  322.592669   49.592669\n",
       "1   -55.0  333.856027   60.856027\n",
       "2   -50.0  343.501058   70.501058\n",
       "3   -45.0  351.789175   78.789175\n",
       "4   -40.0  358.901133   85.901133\n",
       "5   -35.0  364.966186   91.966186\n",
       "6   -30.0  370.078904   97.078904\n",
       "7   -25.0  374.309425  101.309425\n",
       "8   -20.0  377.709956  104.709956\n",
       "9   -15.0  380.319016  107.319016\n",
       "10  -10.0  382.164240  109.164240\n",
       "11   -5.0  383.264232  110.264232\n",
       "12    0.0  383.629726  110.629726\n",
       "13    5.0  383.264232  110.264232\n",
       "14   10.0  382.164240  109.164240\n",
       "15   15.0  380.319016  107.319016\n",
       "16   20.0  377.709956  104.709956\n",
       "17   25.0  374.309425  101.309425\n",
       "18   30.0  370.078904   97.078904\n",
       "19   35.0  364.966186   91.966186\n",
       "20   40.0  358.901133   85.901133\n",
       "21   45.0  351.789175   78.789175\n",
       "22   50.0  343.501058   70.501058\n",
       "23   55.0  333.856027   60.856027"
      ]
     },
     "execution_count": 24,
     "metadata": {},
     "output_type": "execute_result"
    }
   ],
   "source": [
    "eqLon = np.arange(-60,60,5)\n",
    "kelv = np.array([])\n",
    "cels = np.array([])\n",
    "\n",
    "# Equator noon: beta = 0\n",
    "#beta = 45 # 0 for noon, 15 for 1pm, 30 for 2pm, 45 for 3pm\n",
    "#betar = beta * pi / 180\n",
    "lat = 0 * pi / 180  # 60N # 0 latitude or enter non-zero latitude\n",
    "sigma = 5.670367 * 10**(-8) # Blackbody radiation law\n",
    "alpha = 0.12 # reflection\n",
    "S = 1368 # solar constant, i.e., sun radiation w/mˆ2\n",
    "ep = 0.98 # related to radiation\n",
    "k = 7.4 * 10**(-4) # related heat conduction from surface down\n",
    "h = 0.4 # related to conduction\n",
    "T0 = 260 # temp underneath surface\n",
    "\n",
    "for i in eqLon:\n",
    "    beta = i\n",
    "    betar = beta * pi / 180\n",
    "    \n",
    "    # Numerically solve this EBM: fEBM = 0\n",
    "    sol = root_scalar(fEBM, bracket=[100, 460], method='brentq')\n",
    "\n",
    "    kelv = np.append(kelv,sol.root)\n",
    "    cels = np.append(cels, sol.root - 273)\n",
    "\n",
    "dataArr = np.stack((eqLon,kelv,cels),axis = 1)\n",
    "\n",
    "\n",
    "import pandas as pd\n",
    "cols = ['Long.','Kelvin','Celcius']\n",
    "moonTemps = pd.DataFrame(dataArr, columns = cols )\n",
    "moonTemps"
   ]
  },
  {
   "cell_type": "markdown",
   "id": "8906c0b5",
   "metadata": {},
   "source": [
    "# 5.1 "
   ]
  },
  {
   "cell_type": "markdown",
   "id": "82fa015e",
   "metadata": {},
   "source": [
    "# a) Find all the currents.\n",
    "\n",
    "We will designate the following loops:\n",
    "\n",
    "Box 1 = Loop 1\n",
    "\n",
    "Box 1,2 = Loop 2\n",
    "\n",
    "Box 1,2,3 = Loop 3\n",
    "\n",
    "The first node indicates:\n",
    "\\begin{align*}\n",
    "I_{3} + I_{2} = I_{1}\n",
    "\\end{align*}\n",
    "\n",
    "The second node indicates: \n",
    "\\begin{align*}\n",
    "I_{4} + I_{5} = I_{3}\n",
    "\\end{align*}\n",
    "\n",
    "\n",
    "Loop 1:\n",
    "\\begin{align*}\n",
    "9I_{1} + 6I_{2} = 12\n",
    "\\end{align*}\n",
    "\n",
    "Loop 2:\n",
    "\\begin{align*}\n",
    "9I_{1} + 3I_{3} + 4I_{4} = 12\n",
    "\\end{align*}\n",
    "\n",
    "Loop 3:\n",
    "\\begin{align*}\n",
    "9I_{1} + 3I_{3} + 9I_{5} + 3I_{5} = 12\n",
    "\\end{align*}\n"
   ]
  },
  {
   "cell_type": "markdown",
   "id": "507fb81e",
   "metadata": {},
   "source": [
    "Then our system of equations becomes:\n",
    "\n",
    "\\begin{align*}\n",
    "I_{1} - I_{2} - I_{3} = 0 \\\\\n",
    "I_{3} - I_{4} - I_{5} = 0 \\\\\n",
    "9I_{1} + 6I_{2} = 12 \\\\\n",
    "9I_{1} + 3I_{3} + 4I_{4} = 12 \\\\\n",
    "9I_{1} + 3I_{3} + 12I_{5} = 12 \\\\\n",
    "\\end{align*}"
   ]
  },
  {
   "cell_type": "code",
   "execution_count": 25,
   "id": "5286464f",
   "metadata": {},
   "outputs": [
    {
     "name": "stdout",
     "output_type": "stream",
     "text": [
      "Then the values are: \n",
      "\n"
     ]
    },
    {
     "data": {
      "text/latex": [
       "$I_1$ = 1.0 mA\n"
      ],
      "text/plain": [
       "<IPython.core.display.Latex object>"
      ]
     },
     "metadata": {},
     "output_type": "display_data"
    },
    {
     "data": {
      "text/latex": [
       "$I_2$ = 0.5 mA\n"
      ],
      "text/plain": [
       "<IPython.core.display.Latex object>"
      ]
     },
     "metadata": {},
     "output_type": "display_data"
    },
    {
     "data": {
      "text/latex": [
       "$I_3$ = 0.5 mA\n"
      ],
      "text/plain": [
       "<IPython.core.display.Latex object>"
      ]
     },
     "metadata": {},
     "output_type": "display_data"
    },
    {
     "data": {
      "text/latex": [
       "$I_4$ = 0.375 mA\n"
      ],
      "text/plain": [
       "<IPython.core.display.Latex object>"
      ]
     },
     "metadata": {},
     "output_type": "display_data"
    },
    {
     "data": {
      "text/latex": [
       "$I_5$ = 0.125 mA\n"
      ],
      "text/plain": [
       "<IPython.core.display.Latex object>"
      ]
     },
     "metadata": {},
     "output_type": "display_data"
    }
   ],
   "source": [
    "A = np.array([[1,-1,-1,0,0],[0,0,1,-1,-1],[9,6,0,0,0],[9,0,3,4,0],[9,0,3,0,12]])\n",
    "b = np.array([0,0,12,12,12])\n",
    "\n",
    "sol = np.linalg.solve(A,b)\n",
    "\n",
    "from IPython.display import display, Latex\n",
    "\n",
    "print(f\"Then the values are: \\n\")\n",
    "for i in range(5) :\n",
    "    display(Latex(f'$I_{i+1}$ = {sol[i]} mA\\n'))"
   ]
  },
  {
   "cell_type": "markdown",
   "id": "b073a52a",
   "metadata": {},
   "source": [
    "# b) Find the voltage difference between two sides of a resistor using Ohm's law V = IR. "
   ]
  },
  {
   "cell_type": "markdown",
   "id": "dc340024",
   "metadata": {},
   "source": [
    "\n",
    "Loop 1:\n",
    "\n",
    "$V_{1} = 6 k\\Omega \\times I_{2} = 9 k\\Omega \\times 1 mA = 9V$\n",
    "\n",
    "$V_{a} = 6 k\\Omega \\times I_{2} = 6 k\\Omega \\times 0.5 mA = 3V$\n",
    "\n",
    "Loop 2:\n",
    "\n",
    "$V_{3} = 3 k\\Omega \\times I_{3} = 3 k\\Omega \\times 0.5 mA = 1.5V$\n",
    "\n",
    "$V_{b} = 4 k\\Omega \\times I_{4} = 4 k\\Omega \\times 0.375 mA = 1.5V$\n",
    "\n",
    "Loop 3:\n",
    "\n",
    "$V_{5} = 9 k\\Omega \\times I_{5} = 9 k\\Omega \\times 0.125 mA = 1.125V$\n",
    "\n",
    "$V_{c} = 3 k\\Omega \\times I_{5} = 3 k\\Omega \\times 0.125 mA = 0.375V$"
   ]
  },
  {
   "cell_type": "markdown",
   "id": "33068691",
   "metadata": {},
   "source": [
    "# c) Find the power consumed by each resister using $P = I^{2}R$ or $P = IV$."
   ]
  },
  {
   "cell_type": "markdown",
   "id": "5108de1c",
   "metadata": {},
   "source": [
    "$9 k\\Omega \\Rightarrow P = (1.0mA)^{2} \\times 9k\\Omega = 9mW$\n",
    "\n",
    "$6 k\\Omega \\Rightarrow P = (0.5mA)^{2} \\times 6k\\Omega = 1.5mW$\n",
    "\n",
    "$3 m\\Omega \\Rightarrow P = (0.5mA)^{2} \\times 3k\\Omega = 0.75mW$\n",
    "\n",
    "$4 m\\Omega \\Rightarrow P = (0.375mA)^{2} \\times 4k\\Omega = 0.5625mW$\n",
    "\n",
    "$9 m\\Omega \\Rightarrow P = (0.125mA)^{2} \\times 9k\\Omega = 0.140625mW$\n",
    "\n",
    "$3 m\\Omega \\Rightarrow P = (0.125mA)^{2} \\times 3k\\Omega = 0.046875mW$"
   ]
  },
  {
   "cell_type": "markdown",
   "id": "ef1047a8",
   "metadata": {},
   "source": [
    "# d) What is the total power load of this circuit? How much work is done by the battery in this circuit in 10 minutes?"
   ]
  },
  {
   "cell_type": "markdown",
   "id": "49e25b73",
   "metadata": {},
   "source": [
    "$P_{Total} =$ The power consumed by the resistors. Therefore,\n",
    "\n",
    "$P_{Total} = 9mW + 1.5mW + 0.75mW + 0.5625mW + 0.1406mW + 0.046875mW = 12mW = 0.012W$\n",
    "\n",
    "10min = 600 seconds\n",
    "\n",
    "W = PT =  0.012W $\\times$ 600s  = 7.2 joules"
   ]
  },
  {
   "cell_type": "markdown",
   "id": "67f65915",
   "metadata": {},
   "source": [
    "# 5.2 The burning of gasoline ($C_{8}H_{18}$) with oxygen($O_{2}$) produces water($H_{2}O$) and carbon dioxide($CO_{2}$). Balance the chemical reaction equation."
   ]
  },
  {
   "cell_type": "markdown",
   "id": "a5e10bdb",
   "metadata": {},
   "source": [
    "$C_{8}H_{18} + O_{2} = H_{2}O + CO_{2}$\n",
    "\n"
   ]
  },
  {
   "cell_type": "markdown",
   "id": "b7296e79",
   "metadata": {},
   "source": [
    "$C_{8}H_{18} + O_{2} = H_{2}O + 8CO_{2}$"
   ]
  },
  {
   "cell_type": "markdown",
   "id": "35d83bcc",
   "metadata": {},
   "source": [
    "$C_{8}H_{18} + O_{2} = 9H_{2}O + 8CO_{2}$"
   ]
  },
  {
   "cell_type": "markdown",
   "id": "a497f80c",
   "metadata": {},
   "source": [
    "Now that Carbon and Hydrogen are balanced, need to balance Oxygen. There are 25 on the right side and 2 on the left. Then if we multiply the left side Oxygen by $\\frac{25}{2}$, and then multiply the entire equation by 2 we have,\n",
    "\n",
    "$C_{8}H_{18} + \\frac{25}{2}O_{2} = 9H_{2}O + 8CO_{2}$\n",
    "\n",
    "$2C_{8}H_{18} + 25O_{2} = 18H_{2}O + 16CO_{2}$"
   ]
  },
  {
   "cell_type": "markdown",
   "id": "2232a47d",
   "metadata": {},
   "source": [
    "# 5.4 "
   ]
  },
  {
   "cell_type": "markdown",
   "id": "0d7ed3cb",
   "metadata": {},
   "source": [
    "# a)\n",
    "\n",
    "Leontif production model:\n",
    "\n",
    "$x = Ax + D$\n",
    "\n",
    "We account for internal production/consumption of each sector with the matrix,\n"
   ]
  },
  {
   "cell_type": "code",
   "execution_count": 26,
   "id": "5459dcd4",
   "metadata": {},
   "outputs": [],
   "source": [
    "A = np.array([[0.245,0.102,0.051],[0.099,0.291,0.279],[0.433,0.372,0.011]])"
   ]
  },
  {
   "cell_type": "markdown",
   "id": "632c5374",
   "metadata": {},
   "source": [
    "The amount of production from the sectors will be noted as a 3 dimension vector,\n",
    "\n",
    "\\begin{equation*}\n",
    "x = \n",
    "\\begin{pmatrix}\n",
    "a_{1}  \\\\\n",
    "m_{2}  \\\\\n",
    "h_{3} \n",
    "\\end{pmatrix}\n",
    "\\end{equation*}"
   ]
  },
  {
   "cell_type": "markdown",
   "id": "6b25c0af",
   "metadata": {},
   "source": [
    "Demand will be noted as:"
   ]
  },
  {
   "cell_type": "code",
   "execution_count": 27,
   "id": "3ea9c44b",
   "metadata": {},
   "outputs": [],
   "source": [
    "D = np.array([2.88,31.45,30.91])"
   ]
  },
  {
   "cell_type": "markdown",
   "id": "cd1b7e6c",
   "metadata": {},
   "source": [
    "Now we convert our Leontif production model to,\n",
    "\n",
    "$(I-A)x = D$\n",
    "\n",
    "I being the identity matrix. Then we can solve for our necessary production values in vector x with row operations."
   ]
  },
  {
   "cell_type": "code",
   "execution_count": 28,
   "id": "c936f9f6",
   "metadata": {},
   "outputs": [
    {
     "data": {
      "text/plain": [
       "array([18.20792271, 73.16603495, 66.74600155])"
      ]
     },
     "execution_count": 28,
     "metadata": {},
     "output_type": "execute_result"
    }
   ],
   "source": [
    "I = np.identity(3)\n",
    "sol = np.linalg.solve(I - A,D)\n",
    "sol"
   ]
  },
  {
   "cell_type": "markdown",
   "id": "5a3d9499",
   "metadata": {},
   "source": [
    "Then the optimal production levels for our sectors represented by the vector x in billions of USD becomes,\n",
    "\n",
    "\\begin{equation*}\n",
    "x = \n",
    "\\begin{pmatrix}\n",
    "a_{1}  \\\\\n",
    "m_{2}  \\\\\n",
    "h_{3} \n",
    "\\end{pmatrix}\n",
    "=\n",
    "\\begin{pmatrix}\n",
    "18.20792271  \\\\\n",
    "73.16603495  \\\\\n",
    "66.74600155 \n",
    "\\end{pmatrix}\n",
    "\\end{equation*}"
   ]
  },
  {
   "cell_type": "markdown",
   "id": "f1370f4b",
   "metadata": {},
   "source": [
    "# b)"
   ]
  },
  {
   "cell_type": "markdown",
   "id": "21fcc06f",
   "metadata": {},
   "source": [
    "The production values seem to reflect our external demand fairly well. Agriculture had the lowest outside demand and shows the lowest necessary production level at 18 billion. While agriculture and household had relatively close export needs and have similar required production needs at 73 and 66 billion."
   ]
  },
  {
   "cell_type": "markdown",
   "id": "a1e2be66",
   "metadata": {},
   "source": [
    "# 5.8"
   ]
  },
  {
   "cell_type": "markdown",
   "id": "2695c428",
   "metadata": {},
   "source": []
  },
  {
   "cell_type": "code",
   "execution_count": 29,
   "id": "fa624b8a",
   "metadata": {},
   "outputs": [],
   "source": [
    "import pandas as pd\n",
    "import os\n",
    "\n",
    "os.chdir(r\"C:\\Users\\Tyler\\Desktop\\School\\MATH336\\HW\\HW2\")\n",
    "globTemp = pd.read_csv(\"NOAAGlobalT.csv\", header=0, index_col=0)\n",
    "\n",
    "#Replace missing data with NaN so -999.9 is not included in our plot\n",
    "globTemp = globTemp.replace(-999.9,np.NaN)"
   ]
  },
  {
   "cell_type": "markdown",
   "id": "fa4954d1",
   "metadata": {},
   "source": [
    "Tropical Pacific:\n",
    "Lat: 20N Lon: 160\n",
    "\n",
    "Data located at row 1617."
   ]
  },
  {
   "cell_type": "code",
   "execution_count": 30,
   "id": "9bc08969",
   "metadata": {},
   "outputs": [],
   "source": [
    "pacDat = np.array(globTemp.iloc[1923,854:1454])\n",
    "pacDat = pacDat.reshape(50,12)\n",
    "\n",
    "#Panda Dataframe for easy look up of data\n",
    "months =['Jan', 'Feb', 'Mar', 'Apr', 'May', 'Jun',\n",
    "             'Jul', 'Aug', 'Sep', 'Oct', 'Nov', 'Dec']\n",
    "years = np.arange(1951,2001, 1)\n",
    "pacDataF = pd.DataFrame(pacDat, index = years, columns = months )"
   ]
  },
  {
   "cell_type": "code",
   "execution_count": 31,
   "id": "d19ff2be",
   "metadata": {},
   "outputs": [],
   "source": [
    "u, s, v = np.linalg.svd(pacDat, full_matrices=False)"
   ]
  },
  {
   "cell_type": "markdown",
   "id": "617a17c7",
   "metadata": {},
   "source": [
    "# a)"
   ]
  },
  {
   "cell_type": "code",
   "execution_count": 32,
   "id": "18b048ac",
   "metadata": {},
   "outputs": [
    {
     "name": "stdout",
     "output_type": "stream",
     "text": [
      "First 10 Singular values of pacDat(Matrix D/s):\n",
      "\n",
      "24.669\n",
      "20.549\n",
      "18.932\n",
      "16.728\n",
      "14.510\n",
      "13.365\n",
      "10.833\n",
      "10.293\n",
      "8.798\n",
      "8.489\n"
     ]
    }
   ],
   "source": [
    "print(f\"First 10 Singular values of pacDat(Matrix D/s):\\n\")\n",
    "for i in range(10):\n",
    "    print(f\"{s[i]:.3f}\")"
   ]
  },
  {
   "cell_type": "markdown",
   "id": "f5e8de93",
   "metadata": {},
   "source": [
    "# b)"
   ]
  },
  {
   "cell_type": "code",
   "execution_count": 33,
   "id": "e3e35471",
   "metadata": {},
   "outputs": [
    {
     "data": {
      "image/png": "[encoded data removed]",
      "text/plain": [
       "<Figure size 864x864 with 2 Axes>"
      ]
     },
     "metadata": {
      "needs_background": "light"
     },
     "output_type": "display_data"
    }
   ],
   "source": [
    "umat = u[:,0:3]\n",
    "#.reshape(15, 10, order='F')\n",
    "# .reshape lets you change the numpy array's dimensions to the\n",
    "# dimensions specified. Order is the way in which elements are\n",
    "# taken from the original and added to the newly shaped array.\n",
    "# 'F' is for Fortran-like (column major).\n",
    "\n",
    "clev = np.linspace(umat.min(), umat.max(), 25)\n",
    "# The number of levels we want for the contourf below.\n",
    "\n",
    "#Figure 5.3\n",
    "fig = plt.figure(figsize=(12,12))\n",
    "\n",
    "x = np.arange(3) + 1\n",
    "y = np.arange(50) + 1\n",
    "\n",
    "ax1 = plt.subplot2grid((2,1), (0,0))\n",
    "# This implicitly creates a 2 by 1 array of plots in fig, and\n",
    "# ax1 refers to the first. This way of declaring the plot has\n",
    "# to be used instead of ways already articulated, because the\n",
    "# colorbar on the contourf plot is incompatible with the old\n",
    "# way. This method, however, is compatible.\n",
    "\n",
    "contf = ax1.contourf(x, y, umat, clev, cmap=plt.cm.get_cmap('bwr').reversed())\n",
    "colbar = plt.colorbar(contf, drawedges=True, aspect=8)\n",
    "colbar.set_ticks([-.2,-.1,0,.1,.2])\n",
    "colbar.ax.tick_params(labelsize=15)\n",
    "# This sets the ticks that show up on the colorbar manually,\n",
    "# much like setting the ticks on the axes manually.\n",
    "\n",
    "ax1.set_xlabel(\"Spatial Position: $x$\", size = 15)\n",
    "ax1.set_ylabel(\"Spatial Position: $y$\", size = 15)\n",
    "ax1.set_title(\"Spatial Pattern: EOF 1\", size=20,fontweight=\"bold\")\n",
    "ax1.tick_params(labelsize=15)\n",
    "ax1.grid()"
   ]
  },
  {
   "cell_type": "markdown",
   "id": "4ead95af",
   "metadata": {},
   "source": [
    "# c)"
   ]
  },
  {
   "cell_type": "code",
   "execution_count": 34,
   "id": "cc2ee044",
   "metadata": {},
   "outputs": [
    {
     "data": {
      "image/png": "[encoded data removed]",
      "text/plain": [
       "<Figure size 864x864 with 1 Axes>"
      ]
     },
     "metadata": {
      "needs_background": "light"
     },
     "output_type": "display_data"
    }
   ],
   "source": [
    "fig = plt.figure(figsize=(12,12))\n",
    "ax2 = plt.subplot2grid((2,1), (1,0))\n",
    "# This creates the second plot in our 2 by 1 array of plots.\n",
    "# ax2 is the second.\n",
    "\n",
    "ax2.plot(np.arange(v.shape[0]) + 1, v[:,0:3], 'ro-')\n",
    "ax2.set_xlabel(\"Time\", size = 15)\n",
    "ax2.set_ylabel(\"PC1 Values [Dimensionless]\", size = 15)\n",
    "ax2.tick_params(labelsize=15)\n",
    "ax2.set_title(\"Temporal Pattern: Time series\", size=20,fontweight=\"bold\")\n",
    "ax2.grid()\n",
    "\n",
    "fig.tight_layout(pad=1)\n",
    "\n",
    "fig.savefig(\"CH5;Spatial&TemporalPatterns.jpg\", bbox_inches='tight')"
   ]
  },
  {
   "cell_type": "code",
   "execution_count": null,
   "id": "6562ae63",
   "metadata": {},
   "outputs": [],
   "source": []
  }
 ],
 "metadata": {
  "kernelspec": {
   "display_name": "Python 3 (ipykernel)",
   "language": "python",
   "name": "python3"
  },
  "language_info": {
   "codemirror_mode": {
    "name": "ipython",
    "version": 3
   },
   "file_extension": ".py",
   "mimetype": "text/x-python",
   "name": "python",
   "nbconvert_exporter": "python",
   "pygments_lexer": "ipython3",
   "version": "3.9.12"
  }
 },
 "nbformat": 4,
 "nbformat_minor": 5
}
