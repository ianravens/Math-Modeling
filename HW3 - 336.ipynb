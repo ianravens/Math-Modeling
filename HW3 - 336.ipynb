{
 "cells": [
  {
   "cell_type": "code",
   "execution_count": 1,
   "id": "8565ebe4",
   "metadata": {},
   "outputs": [],
   "source": [
    "import numpy as np\n",
    "from numpy import random as rando\n",
    "import matplotlib.pyplot as plt\n",
    "from scipy import integrate\n",
    "import pandas as pd\n",
    "import os"
   ]
  },
  {
   "cell_type": "markdown",
   "id": "568eceff",
   "metadata": {},
   "source": [
    "# Mathematical Modeling by Linear Algebra \n",
    "# #1-2: Exercise 5.8. \n",
    "(This problem was assigned in the last set of homework. You are\n",
    "asked to read my solution and redo this problem with my csv data from Canvas and with\n",
    "your improved R codes with your own style. Again, this problem is long and is considered\n",
    "as two problems): The monthly dataset is NOAAGlobalT.csv , which is in the data.zip\n",
    "file posted on the Canvas for this assignment. You need to extract the data for the Pacific\n",
    "region first, and then convert the monthly data in annual data. Then you can apply the\n",
    "SVD command. You can use the long R code I sent you as a reference."
   ]
  },
  {
   "cell_type": "markdown",
   "id": "95ce61a5",
   "metadata": {},
   "source": [
    "# Mathematical Modeling by Calculus"
   ]
  },
  {
   "cell_type": "markdown",
   "id": "9ef8424e",
   "metadata": {},
   "source": [
    "# #3: 6.1\n",
    "Suppose that the greenhouse effect results in a net energy gain of the Earth’s surface\n",
    "by $1.0 Wm^{-2}$.\n",
    "\n",
    "If the gained heat is all used to heat the Earth’s atmosphere, how many\n",
    "years will be needed to warm the Earth’s entire atmosphere by 1.0\n",
    "◦C? If the heat is all used\n",
    "to heat the Earth’s surface water, including the water in the oceans, lakes, and rivers, how\n",
    "many years will it take to warm the water by 1.0\n",
    "◦C? Make comments about this study’s\n",
    "implications for global warming.\n",
    "\n",
    "Hint: You can find the relevant information about the Earth’s atmosphere and water in\n",
    "this book or from the Internet.\n"
   ]
  },
  {
   "cell_type": "markdown",
   "id": "95cddd9f",
   "metadata": {},
   "source": [
    "Avg. temp of atmopsphere = 15 degrees celcius\n",
    "\n",
    "heat capacity of ocean: 4.18 J/g*C\n",
    "\n",
    "heat capacity of air: 1.012 J/g*C\n"
   ]
  },
  {
   "cell_type": "markdown",
   "id": "bc09660b",
   "metadata": {},
   "source": [
    "# #4: 6.5\n",
    "\n",
    "Repeat Elisha Mitchell’s calculation with the current data you can find online, such\n",
    "as the North Carolina Climate Office NC ECONet, and make your own estimation of the\n",
    "elevation of Mount Mitchell using the hypsometric equation"
   ]
  },
  {
   "cell_type": "markdown",
   "id": "358eab20",
   "metadata": {},
   "source": [
    "Data retrieved from https://econet.climate.ncsu.edu/https://econet.climate.ncsu.edu/\n",
    "\n",
    "MITC - Mount Mitchell State Park:\n",
    "\n",
    "    Temp: 50.2 F, 283.26K\n",
    "\n",
    "    Pressure: 804.5mb\n",
    "\n",
    "    Elevation: 6215 ft. above sea level\n",
    "\n",
    "Burnsville Tower:\n",
    "\n",
    "    Temp: 63.3 F, 293.53K\n",
    "\n",
    "    Pressure: 913.5mb\n",
    "\n",
    "    Elevation: 2689 ft. above sea level, 819.60m"
   ]
  },
  {
   "cell_type": "markdown",
   "id": "acf45fe5",
   "metadata": {},
   "source": [
    "Hypsometric equation:\n",
    "\n",
    "$$z_{2} = z_{1} + \\frac{2RT_{1}T_{2}}{g(T_{1}+T_{2})} \\times ln(\\frac{p_{1}}{p_{2}})$$"
   ]
  },
  {
   "cell_type": "markdown",
   "id": "af935736",
   "metadata": {},
   "source": [
    "$R = 287 \\frac{J}{kg*K}$\n",
    "\n",
    "$g = 9.80665$"
   ]
  },
  {
   "cell_type": "markdown",
   "id": "4bf13b3d",
   "metadata": {},
   "source": [
    "Plugging values into equation:\n",
    "\n",
    "$$z_{2} = 819.6 + \\frac{2 \\times 287.055 \\times (293.53)(283.26)}{9.80665(293.53+283.26)} \\times ln \\left(\\frac{913.5mb}{804.5mb}\\right)$$"
   ]
  },
  {
   "cell_type": "code",
   "execution_count": 17,
   "id": "2ccf2474",
   "metadata": {},
   "outputs": [
    {
     "name": "stdout",
     "output_type": "stream",
     "text": [
      "6196.0 ft.\n"
     ]
    }
   ],
   "source": [
    "#Calculate height of Mount Mitchell with Hypsometric equation\n",
    "z1 = 819.6\n",
    "R = 287.055\n",
    "T1 = 293.53\n",
    "T2 = 283.26\n",
    "g = 9.80665\n",
    "p1 = 913.15\n",
    "p2 = 804.5\n",
    "\n",
    "z2 = z1 + ((2*R*T1*T2)/(g*(T2+T1))) * np.log(p1/p2)\n",
    "print(f\"{np.round(z2/0.3048,0)} ft.\")"
   ]
  },
  {
   "cell_type": "markdown",
   "id": "bc42387c",
   "metadata": {},
   "source": [
    "# #5: 6.6\n",
    "\n",
    "Calculate the elevation of a high mountain peak near your location, or in another\n",
    "place with which you are familiar, using observed data and the hypsometric equation."
   ]
  },
  {
   "cell_type": "markdown",
   "id": "9480f458",
   "metadata": {},
   "source": [
    "Mt. Whitney:\n",
    "\n",
    "    Temp: 69 F, 293.706K\n",
    "\n",
    "    Pressure: 529 mmHg, 705.275mb\n",
    "\n",
    "    Elevation: 11494 ft\n",
    "    \n",
    "Springville, CA weather station: 34.2 miles SSW of Mt. Whitney\n",
    "\n",
    "    Temp: 82 F, 300.928K\n",
    "    \n",
    "    Pressure: 1012 mb\n",
    "    \n",
    "    Elevation: 1024 ft, 312.11m"
   ]
  },
  {
   "cell_type": "markdown",
   "id": "42ce22dd",
   "metadata": {},
   "source": [
    "Plugging in values:\n",
    "\n",
    "$$z_{2} = 312.11 + \\frac{2 \\times 287.055 \\times (300.928)(293.706)}{9.80665(300.928+293.706)} \\times ln \\left(\\frac{1012}{705.275}\\right)$$"
   ]
  },
  {
   "cell_type": "code",
   "execution_count": 9,
   "id": "2580ddb3",
   "metadata": {},
   "outputs": [
    {
     "name": "stdout",
     "output_type": "stream",
     "text": [
      "11333.0 ft.\n"
     ]
    }
   ],
   "source": [
    "#Calculate height of Mt. Whitney with Hypsometric equation\n",
    "z1 = 312.11\n",
    "R = 287.055\n",
    "T1 = 300.928\n",
    "T2 = 293.706\n",
    "g = 9.80665\n",
    "p1 = 1012\n",
    "p2 = 705.275\n",
    "\n",
    "z2 = z1 + ((2*R*T1*T2)/(g*(T2+T1))) * np.log(p1/p2)\n",
    "print(f\"{np.round(z2/0.3048,0)} ft.\")"
   ]
  },
  {
   "cell_type": "markdown",
   "id": "4df07c2c",
   "metadata": {},
   "source": [
    "# #6: 6.7\n",
    "\n",
    "a) Under the assumptions of isothermal layer and ideal gas, derive the equation of\n",
    "exponential decay of pressure with respect to altitude, using the calculus method:\n",
    "cut a small piece of air of thickness equal to dz and base area equal to A, as\n",
    "shown in Figure 6.7, and then integrate all the small pieces together. Start with\n",
    "the balance of forces on this small piece of air and derive a differential equation\n",
    "model."
   ]
  },
  {
   "cell_type": "markdown",
   "id": "b3e961cd",
   "metadata": {},
   "source": [
    "(6.55) hypsometric equation = \n",
    "\n",
    "$$dp = p(z+dz) - p(z) = -\\rho gdz$$ \n",
    "\n",
    "(6.56) ideal gas law = \n",
    "\n",
    "$$pV = nRT$$ \n",
    "\n",
    "In terms of the specific gas constant, the ideal gas law can be written as:\n",
    "\n",
    "\n",
    "$$pV = nMRT$$\n",
    "\n",
    "Or, \n",
    "\n",
    "$$\\frac{nM}{V} = \\frac{p}{RT}$$\n",
    "\n",
    "Here,\n",
    "\n",
    "$$\\rho = \\frac{p}{RT}$$\n",
    "\n",
    "Subbing into 6.55\n",
    "\n",
    "$$dp = \\frac{p}{RT}$$\n",
    "\n",
    "Or,\n",
    "\n",
    "$$\\frac{1}{p}dp = - Fdz$$\n",
    "\n",
    "Integrate both sides from elevation $z_{1}$, corresponding to a pressure $p_{1}$, to another elevation $z_{2}$ with a pressure $p_{2}$.\n",
    "\n",
    "$$\\int_{p_{1}}^{p_{2}} \\frac{1}{p}dp = \\int_{z_{1}}^{z_{2}} -F(z)dz$$\n",
    "\n",
    "$$ln\\left(\\frac{p_{2}}{p_{1}} \\right) = -\\int_{z_{1}}^{z_{2}} F(z)dz$$\n",
    "\n",
    "$$p_{2} = p_{1} e^{-\\int_{z_{1}}^{z_{2}} F(z)dz}$$\n",
    "\n",
    "The integral can be approximated by \n",
    "\n",
    "$$A_{trapezoid} = \\frac{F_{1} + F_{2}}{2} \\times (z_{2}-z_{1})$$\n",
    "\n",
    "So,\n",
    "\n",
    "$$ln\\left(\\frac{p_{2}}{p_{1}} \\right) = -\\frac{F_{1} + F_{2}}{2} \\times (z_{2}-z_{1})$$\n",
    "\n",
    "Let,\n",
    "\n",
    "$$\\bar{F} = \\frac{F_{1} + F_{2}}{2}$$\n",
    "\n",
    "Then the equation showing atmospheric pressure decays exponentially with respect to elevation in the atmosphere is\n",
    "\n",
    "$$p_{2} = p_{1} e^{-\\bar{F}(z_{2}-z_{1})}$$\n",
    "\n",
    "Solve for $z_{2}$\n",
    "\n",
    "$$z_{2} = z_{1} + \\frac{1}{\\bar{F}} ln\\left(\\frac{p_{1}}{p_{2}}\\right)$$\n",
    "\n",
    "Subbing $$F = \\frac{g}{TR}$$ and a bunch of algebra we get\n",
    "\n",
    "$$z_{2} = z_{1} + \\frac{2RT_{1}T_{2}}{g(T_{1}+T_{2})} \\times ln\\left(\\frac{p_{1}}{p_{2}}\\right)$$\n",
    "\n",
    "Using the isothermal assumption that the atmospheric layer under consideration has the same temperature everywhere in the layer.\n",
    "\n",
    "$$T = T_{1} = T_{2}$$\n",
    "\n",
    "Formula becomes\n",
    "\n",
    "$$z_{2} = z_{1} + \\frac{RT}{g} \\times ln\\left(\\frac{p_{1}}{p_{2}}\\right)$$"
   ]
  },
  {
   "cell_type": "markdown",
   "id": "8fe06dae",
   "metadata": {},
   "source": [
    "b) Suppose that (i) an isothermal layer has an average temperature 253K, (ii) the\n",
    "layer’s bottom is at the sea level with z1 = 0 and p1 = 1000[mb], and (iii) the\n",
    "isothermal layer’s top pressure is p2 = 500[mb] . Calculate the isothermal layer’s\n",
    "top coordinate z2 using the formula derived in (a) and using a calculator or R.\n",
    "Hint: Pay attention to the units of the universal gas constant. Search internet\n",
    "and find out how many grams of air are equal to one [mol] of air. If certain\n",
    "conditions are attached to the units conversion, then discuss the conditions and\n",
    "the numerical results."
   ]
  },
  {
   "cell_type": "code",
   "execution_count": 10,
   "id": "3451d0ee",
   "metadata": {},
   "outputs": [
    {
     "name": "stdout",
     "output_type": "stream",
     "text": [
      "5133.23 meters\n"
     ]
    }
   ],
   "source": [
    "z1 = 0\n",
    "p1 = 1000 #mb\n",
    "p2 = 500 #mb\n",
    "R = 287.055 #J(Kg)^-1 K^-1)\n",
    "T = 253 #K\n",
    "g = 9.80665 \n",
    "\n",
    "z2 = np.round(z1 + ((R*T)/g) * np.log(p1/p2),2)\n",
    "print(f\"{z2} meters\")\n",
    "\n",
    "# Mole of air is approximately 28.9 grams"
   ]
  },
  {
   "cell_type": "markdown",
   "id": "818ee266",
   "metadata": {},
   "source": [
    "# Probability Modeling\n",
    "# #7: \n",
    "(a) State Buffon’s needle problem with text and diagram(s)."
   ]
  },
  {
   "cell_type": "markdown",
   "id": "c0637a28",
   "metadata": {},
   "source": [
    "French mathematician Georges-Louis Leclerc proposed a geometric probability problem: randomly drop a needle on a floor made of parallel strips of wood, each with the same width. What is the probability that the needle will lie across a line between two strips?"
   ]
  },
  {
   "attachments": {
    "buffonneedle.png": {
     "image/png": "[encoded data removed]"
    }
   },
   "cell_type": "markdown",
   "id": "02af2284",
   "metadata": {},
   "source": [
    "![buffonneedle.png](attachment:buffonneedle.png)"
   ]
  },
  {
   "cell_type": "markdown",
   "id": "5f23572b",
   "metadata": {},
   "source": [
    "(b) Derive the solution of Buffon’s needle problem when the needle length is longer\n",
    "than the gap of two lines."
   ]
  },
  {
   "cell_type": "markdown",
   "id": "129524ce",
   "metadata": {},
   "source": [
    "Since $l > d$, the cross must happen when the angle $\\theta$ is small enough. The maximum angle $\\theta$ for a sure crossing is denoted by $\\alpha$ that satisfieds $lcos(\\alpha) = d$ which yields\n",
    "\n",
    "$$\\alpha = arcos\\left(\\frac{d}{l}\\right)$$\n",
    "\n",
    "The area of a sure crossing region is\n",
    "\n",
    "$$A_{x} = 2\\alpha d$$\n",
    "\n",
    "The area of the conditional crossing region can be found using\n",
    "\n",
    "$$A_{c} = 2 \\int_{\\alpha}^{\\frac{\\pi}{2}} [d-(d-lcos(\\theta)]d\\theta \\\\ \n",
    "= 2l(1-sin(\\alpha) \\\\\n",
    "= 2l-2lsin(\\alpha)$$\n",
    "\n",
    "The Pythagorean theorem yields\n",
    "\n",
    "$$lsin(\\alpha) = \\sqrt{l^{2}-d^{2}}$$\n",
    "\n",
    "The probability of the needle crossing is\n",
    "\n",
    "$$p_{L} = \\frac{A_{x} + A_{c}}{A} \\\\ \n",
    "= \\frac{1}{\\pi d} \\times (2\\alpha d + 2l - 2\\sqrt{l^{2}-d^{2}}$$\n",
    "\n",
    "Which can be written as a ratio $r = \\frac{l}{d}$\n",
    "\n",
    "$$p_{L} = \\frac{2}{\\pi} \\left[r + arcos\\left(\\frac{1}{r}\\right) - \\sqrt{r^{2}-1}\\right]$$ "
   ]
  },
  {
   "cell_type": "markdown",
   "id": "72754c82",
   "metadata": {},
   "source": [
    "(c) Write an R program to simulate the above Buffon’s needle problem in (a) and\n",
    "(b)."
   ]
  },
  {
   "cell_type": "markdown",
   "id": "01f8d4ee",
   "metadata": {},
   "source": [
    "# $l < d$"
   ]
  },
  {
   "cell_type": "code",
   "execution_count": 11,
   "id": "1cb18a50",
   "metadata": {},
   "outputs": [
    {
     "name": "stdout",
     "output_type": "stream",
     "text": [
      "Probability of Needle Crossing by simulation: 0.3129\n",
      "Probability of Needle Crossing by derived formula: 0.3183098861837907\n"
     ]
    }
   ],
   "source": [
    "d = 4\n",
    "l = 2 # Short Needle\n",
    "n = 10_000\n",
    "ys = rando.uniform(low=0, high=d, size=(n,1))\n",
    "thetas = rando.uniform(low=-np.pi/2, high=np.pi/2, size=(n,1))\n",
    "res = ys + l*np.cos(thetas)\n",
    "k = len(np.where(res >= d)[0])\n",
    "\n",
    "print(f\"Probability of Needle Crossing by simulation: {k/n}\")\n",
    "print(f\"Probability of Needle Crossing by derived formula: {(2*l)/(np.pi*d)}\")"
   ]
  },
  {
   "cell_type": "markdown",
   "id": "73300b7f",
   "metadata": {},
   "source": [
    "# $l > d$"
   ]
  },
  {
   "cell_type": "code",
   "execution_count": 12,
   "id": "6f0977f9",
   "metadata": {},
   "outputs": [
    {
     "name": "stdout",
     "output_type": "stream",
     "text": [
      "Probability of Needle Crossing by simulation: 0.8382\n",
      "Probability of Needle Crossing by derived formula: 0.8372484205582454\n"
     ]
    }
   ],
   "source": [
    "d = 2\n",
    "l = 4 # Long Needle\n",
    "n = 10_000\n",
    "ys = rando.uniform(low=0, high=d, size=(n,1))\n",
    "thetas = rando.uniform(low=-np.pi/2, high=np.pi/2, size=(n,1))\n",
    "res = ys + l*np.cos(thetas)\n",
    "k = len(np.where(res >= d)[0])\n",
    "\n",
    "print(f\"Probability of Needle Crossing by simulation: {k/n}\")\n",
    "print(f\"Probability of Needle Crossing by derived formula: \"\n",
    "      f\"{(2/(np.pi*d))*(np.arccos(d/l)*d + l - np.sqrt(l**2 - d**2))}\")"
   ]
  },
  {
   "cell_type": "markdown",
   "id": "a4669c32",
   "metadata": {},
   "source": [
    "# #8: "
   ]
  },
  {
   "cell_type": "code",
   "execution_count": 13,
   "id": "5e28cb1c",
   "metadata": {},
   "outputs": [
    {
     "name": "stdout",
     "output_type": "stream",
     "text": [
      "Volume of 8-dimension ball by simulation: 3.8656\n",
      "Volume of 8-dimension ball by formula: 4.058712126416768\n"
     ]
    }
   ],
   "source": [
    "from scipy.special import gamma\n",
    "\n",
    "N = 10_000 # Number of simulations\n",
    "n = 8 # Dimension of ball\n",
    "x = rando.uniform(low=-1, high=1, size=(N,n))\n",
    "\n",
    "norms = np.linalg.norm(x, ord=2, axis=1)\n",
    "\n",
    "k = len(np.where(norms < 1)[0])\n",
    "\n",
    "print(f\"Volume of 8-dimension ball by simulation: {(k/N)*2**n}\")\n",
    "print(f\"Volume of 8-dimension ball by formula: {np.pi**(.5*n)/gamma(.5*n + 1)}\")"
   ]
  },
  {
   "cell_type": "markdown",
   "id": "79ca88bf",
   "metadata": {},
   "source": [
    "# #9:"
   ]
  },
  {
   "cell_type": "code",
   "execution_count": 14,
   "id": "08a7c5bd",
   "metadata": {},
   "outputs": [
    {
     "name": "stdout",
     "output_type": "stream",
     "text": [
      "0.16806\n"
     ]
    }
   ],
   "source": [
    "x = y = [1, 2, 3, 4, 5, 6]  # Two dice x and y\n",
    "m = 100000  # Simulate m times\n",
    "l = 0  # l is used as the counter for a specific event, such as \"7\"\n",
    "\n",
    "for i in range(m):\n",
    "    if rando.choice(x) + rando.choice(y) == 7:\n",
    "        l += 1\n",
    "        \n",
    "print(l/m) # The simulated probability"
   ]
  },
  {
   "cell_type": "code",
   "execution_count": 15,
   "id": "4d16ddc5",
   "metadata": {},
   "outputs": [
    {
     "name": "stdout",
     "output_type": "stream",
     "text": [
      "Simulated probability that the sum of 2 dice is 7: 0.1666\n",
      "Calculated probability that the sum of 2 dice is 7:  0.16666666666666666\n"
     ]
    }
   ],
   "source": [
    "rolls = rando.randint(low=1, high=7, size=(int(1e8),2))\n",
    "rollSums = rolls[:,0] + rolls[:,1]\n",
    "\n",
    "place = np.where(rollSums == 7)[0]\n",
    "\n",
    "print(f\"Simulated probability that the sum of 2 dice is 7: \"\n",
    "      f\"{place.shape[0]/rollSums.shape[0]:5.4f}\")\n",
    "x = 1/6\n",
    "print(\"Calculated probability that the sum of 2 dice is 7: \", 1/6)"
   ]
  },
  {
   "cell_type": "markdown",
   "id": "f8e175ae",
   "metadata": {},
   "source": [
    "# #10:"
   ]
  },
  {
   "cell_type": "code",
   "execution_count": 16,
   "id": "cde9b404",
   "metadata": {},
   "outputs": [
    {
     "name": "stdout",
     "output_type": "stream",
     "text": [
      "Monte Carlo Integration of f3(x) over D: 3.801154717219929\n"
     ]
    }
   ],
   "source": [
    "n = 5\n",
    "N = 10_000\n",
    "x = rando.uniform(-1, 1, size=(N, n))\n",
    "ranges = [(0, 1)]*5\n",
    "\n",
    "y = np.linalg.norm(x, ord=2, axis=1)\n",
    "\n",
    "inside = np.where(y < 1)[0]\n",
    "\n",
    "r = (x[inside,0], x[inside,1], x[inside,2], x[inside,3], x[inside,4])\n",
    "\n",
    "f3 = lambda x1, x2, x3, x4, x5: x1**2 + x2**2 + x3**2 + x4**2 + x5**2\n",
    "\n",
    "V5 = np.pi**(.5*n)/gamma(.5*n + 1)\n",
    "\n",
    "print(f\"Monte Carlo Integration of f3(x) over D: {V5*np.mean(f3(*r))}\")"
   ]
  },
  {
   "cell_type": "code",
   "execution_count": null,
   "id": "da2ed852",
   "metadata": {},
   "outputs": [],
   "source": []
  }
 ],
 "metadata": {
  "kernelspec": {
   "display_name": "Python 3 (ipykernel)",
   "language": "python",
   "name": "python3"
  },
  "language_info": {
   "codemirror_mode": {
    "name": "ipython",
    "version": 3
   },
   "file_extension": ".py",
   "mimetype": "text/x-python",
   "name": "python",
   "nbconvert_exporter": "python",
   "pygments_lexer": "ipython3",
   "version": "3.9.12"
  }
 },
 "nbformat": 4,
 "nbformat_minor": 5
}
